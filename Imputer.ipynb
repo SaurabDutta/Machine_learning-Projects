{
  "nbformat": 4,
  "nbformat_minor": 0,
  "metadata": {
    "colab": {
      "name": "Imputer.ipynb",
      "provenance": []
    },
    "kernelspec": {
      "name": "python3",
      "display_name": "Python 3"
    }
  },
  "cells": [
    {
      "cell_type": "code",
      "metadata": {
        "id": "Nh3ajCe8sZnd"
      },
      "source": [
        "import numpy as np\r\n",
        "import matplotlib.pyplot as plt\r\n",
        "import pandas as pd"
      ],
      "execution_count": 36,
      "outputs": []
    },
    {
      "cell_type": "code",
      "metadata": {
        "id": "DtKSW-YAs-6r"
      },
      "source": [
        "dataset=pd.read_excel('salary.xlsx',header=None)"
      ],
      "execution_count": 55,
      "outputs": []
    },
    {
      "cell_type": "code",
      "metadata": {
        "colab": {
          "base_uri": "https://localhost:8080/",
          "height": 173
        },
        "id": "lJB1fo3LtZcH",
        "outputId": "c24552fa-b5c6-48d4-c9a6-0c1cb804c962"
      },
      "source": [
        "dataset"
      ],
      "execution_count": 37,
      "outputs": [
        {
          "output_type": "execute_result",
          "data": {
            "text/html": [
              "<div>\n",
              "<style scoped>\n",
              "    .dataframe tbody tr th:only-of-type {\n",
              "        vertical-align: middle;\n",
              "    }\n",
              "\n",
              "    .dataframe tbody tr th {\n",
              "        vertical-align: top;\n",
              "    }\n",
              "\n",
              "    .dataframe thead th {\n",
              "        text-align: right;\n",
              "    }\n",
              "</style>\n",
              "<table border=\"1\" class=\"dataframe\">\n",
              "  <thead>\n",
              "    <tr style=\"text-align: right;\">\n",
              "      <th></th>\n",
              "      <th>Location</th>\n",
              "      <th>Age</th>\n",
              "      <th>Experiece</th>\n",
              "      <th>Salary</th>\n",
              "      <th>Married</th>\n",
              "    </tr>\n",
              "  </thead>\n",
              "  <tbody>\n",
              "    <tr>\n",
              "      <th>0</th>\n",
              "      <td>Kolkata</td>\n",
              "      <td>42</td>\n",
              "      <td>10</td>\n",
              "      <td>45000.0</td>\n",
              "      <td>YES</td>\n",
              "    </tr>\n",
              "    <tr>\n",
              "      <th>1</th>\n",
              "      <td>Delhi</td>\n",
              "      <td>31</td>\n",
              "      <td>3</td>\n",
              "      <td>32000.0</td>\n",
              "      <td>NO</td>\n",
              "    </tr>\n",
              "    <tr>\n",
              "      <th>2</th>\n",
              "      <td>Mumbai</td>\n",
              "      <td>33</td>\n",
              "      <td>4</td>\n",
              "      <td>34000.0</td>\n",
              "      <td>NO</td>\n",
              "    </tr>\n",
              "    <tr>\n",
              "      <th>3</th>\n",
              "      <td>Chandigarh</td>\n",
              "      <td>32</td>\n",
              "      <td>5</td>\n",
              "      <td>NaN</td>\n",
              "      <td>NO</td>\n",
              "    </tr>\n",
              "  </tbody>\n",
              "</table>\n",
              "</div>"
            ],
            "text/plain": [
              "     Location  Age   Experiece   Salary Married\n",
              "0     Kolkata    42         10  45000.0     YES\n",
              "1       Delhi    31          3  32000.0      NO\n",
              "2      Mumbai    33          4  34000.0      NO\n",
              "3  Chandigarh    32          5      NaN      NO"
            ]
          },
          "metadata": {
            "tags": []
          },
          "execution_count": 37
        }
      ]
    },
    {
      "cell_type": "code",
      "metadata": {
        "id": "j6t4ZzT7tgGP"
      },
      "source": [
        "X=dataset.iloc[:,:-1].values\r\n",
        "Y=dataset.iloc[:,3].values"
      ],
      "execution_count": 56,
      "outputs": []
    },
    {
      "cell_type": "code",
      "metadata": {
        "colab": {
          "base_uri": "https://localhost:8080/"
        },
        "id": "dFVJ_e-ats_X",
        "outputId": "385f68c2-e804-4522-b761-8a88b465d4e0"
      },
      "source": [
        "X"
      ],
      "execution_count": 39,
      "outputs": [
        {
          "output_type": "execute_result",
          "data": {
            "text/plain": [
              "array([['Kolkata', 42, 10, 45000.0],\n",
              "       ['Delhi', 31, 3, 32000.0],\n",
              "       ['Mumbai', 33, 4, 34000.0],\n",
              "       ['Chandigarh', 32, 5, nan]], dtype=object)"
            ]
          },
          "metadata": {
            "tags": []
          },
          "execution_count": 39
        }
      ]
    },
    {
      "cell_type": "code",
      "metadata": {
        "colab": {
          "base_uri": "https://localhost:8080/"
        },
        "id": "X1zrZHqWty8H",
        "outputId": "e817d6ad-9237-4629-be48-ea22ae6da149"
      },
      "source": [
        "Y"
      ],
      "execution_count": 40,
      "outputs": [
        {
          "output_type": "execute_result",
          "data": {
            "text/plain": [
              "array([45000., 32000., 34000.,    nan])"
            ]
          },
          "metadata": {
            "tags": []
          },
          "execution_count": 40
        }
      ]
    },
    {
      "cell_type": "code",
      "metadata": {
        "id": "LMF_C7mnt4ie"
      },
      "source": [
        "from sklearn.impute import SimpleImputer\r\n",
        "imputer=SimpleImputer(missing_values=np.nan,strategy='mean',fill_value='None')"
      ],
      "execution_count": 61,
      "outputs": []
    },
    {
      "cell_type": "code",
      "metadata": {
        "colab": {
          "base_uri": "https://localhost:8080/"
        },
        "id": "BYk1tBIlt8hm",
        "outputId": "93aca684-0a6b-4a7c-f376-867e73d2ea36"
      },
      "source": [
        "X"
      ],
      "execution_count": 62,
      "outputs": [
        {
          "output_type": "execute_result",
          "data": {
            "text/plain": [
              "array([['Location', 'Age ', 'Experiece', 'Salary'],\n",
              "       ['Kolkata', 42, 10, 45000],\n",
              "       ['Delhi', 31, 3, 32000],\n",
              "       ['Mumbai', 33, 4, 34000],\n",
              "       ['Chandigarh', 32, 5, nan]], dtype=object)"
            ]
          },
          "metadata": {
            "tags": []
          },
          "execution_count": 62
        }
      ]
    },
    {
      "cell_type": "code",
      "metadata": {
        "colab": {
          "base_uri": "https://localhost:8080/"
        },
        "id": "QpxJ0Iuvu6IK",
        "outputId": "8546e8df-77a5-4861-8643-0fccefb5c4af"
      },
      "source": [
        "Y"
      ],
      "execution_count": 42,
      "outputs": [
        {
          "output_type": "execute_result",
          "data": {
            "text/plain": [
              "array([45000., 32000., 34000.,    nan])"
            ]
          },
          "metadata": {
            "tags": []
          },
          "execution_count": 42
        }
      ]
    },
    {
      "cell_type": "code",
      "metadata": {
        "id": "gkhM0g1Ku79i"
      },
      "source": [
        " \r\n",
        "from sklearn.impute import SimpleImputer \r\n",
        "imputer=SimpleImputer(missing_values=np.nan,strategy='mean',fill_value=None )\r\n",
        "imputer=imputer.fit(X[:,1:3])\r\n",
        "X[:,1:3]=imputer.transform(X[:,1:3])"
      ],
      "execution_count": 45,
      "outputs": []
    },
    {
      "cell_type": "code",
      "metadata": {
        "colab": {
          "base_uri": "https://localhost:8080/"
        },
        "id": "CckLmYpa-TJJ",
        "outputId": "d209020f-a695-4c85-f365-29f2a6aeb9db"
      },
      "source": [
        "X"
      ],
      "execution_count": 50,
      "outputs": [
        {
          "output_type": "execute_result",
          "data": {
            "text/plain": [
              "array([['Kolkata', 42.0, 10.0, 45000.0],\n",
              "       ['Delhi', 31.0, 3.0, 32000.0],\n",
              "       ['Mumbai', 33.0, 4.0, 34000.0],\n",
              "       ['Chandigarh', 32.0, 5.0, nan]], dtype=object)"
            ]
          },
          "metadata": {
            "tags": []
          },
          "execution_count": 50
        }
      ]
    },
    {
      "cell_type": "code",
      "metadata": {
        "colab": {
          "base_uri": "https://localhost:8080/"
        },
        "id": "MZVTrEtBduim",
        "outputId": "196d4280-0ee3-4f12-aabb-5be6ba9d9d5e"
      },
      "source": [
        "\r\n",
        "# count the number of missing values for each column\r\n",
        "num_missing = (dataset[[1,2,3]] == 0).sum()\r\n",
        "dataset[[1,2,3]] = dataset[[1,2,3]].replace(0, np.nan)\r\n",
        "print(dataset.isnull().sum())"
      ],
      "execution_count": 66,
      "outputs": [
        {
          "output_type": "stream",
          "text": [
            "0    0\n",
            "1    0\n",
            "2    0\n",
            "3    1\n",
            "4    0\n",
            "dtype: int64\n"
          ],
          "name": "stdout"
        }
      ]
    }
  ]
}